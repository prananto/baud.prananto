{
  "nbformat": 4,
  "nbformat_minor": 0,
  "metadata": {
    "colab": {
      "name": "BostonHousing.ipynb",
      "provenance": [],
      "authorship_tag": "ABX9TyPEZA08AdrTgdMVUMSJgDgY",
      "include_colab_link": true
    },
    "kernelspec": {
      "name": "python3",
      "display_name": "Python 3"
    },
    "language_info": {
      "name": "python"
    }
  },
  "cells": [
    {
      "cell_type": "markdown",
      "metadata": {
        "id": "view-in-github",
        "colab_type": "text"
      },
      "source": [
        "<a href=\"https://colab.research.google.com/github/prananto/baud.prananto/blob/main/BostonHousing.ipynb\" target=\"_parent\"><img src=\"https://colab.research.google.com/assets/colab-badge.svg\" alt=\"Open In Colab\"/></a>"
      ]
    },
    {
      "cell_type": "markdown",
      "source": [
        "*Tugas EI7007*\n",
        "\n",
        "**Eksplorasi Hyperparameter Fully Connected Neural Network untuk Regresi dengan dataset Boston Housing Price**\n",
        "\n",
        "Boston Housing Price adalah suatu dataset yang memuat data harga rumah di sekitar Boston, AS yang berubah terhadap waktu (time-series). Dataset tersebut memuat 13 parameter numerik yang mempengaruhi harga rumah seperti tingkat kejahatan, konsentrasi kimia, jarak dari pusat bisnis, dsb. Parameter-parameter tersebut berubah terhadap waktu dan dapat mempengaruhi harga rumah. \n",
        "\n",
        "Dataset ini dapat digunakan sebagai training data untuk meramalkan harga rumah menggunakan Fully Connected Neural Network. Dalam tugas ini akan dieksplorasi pengaruh dari desain model Neural Network dan pengaruhnya terhadap kinerja model. Kinerja akan dinyatakan dalam bentuk **Mean Squared Error (MSE)** antara nilai yang diprediksi dengan nilai sebenarnya (dari test data). \n",
        "\n"
      ],
      "metadata": {
        "id": "KTwBRSwvvwbL"
      }
    },
    {
      "cell_type": "markdown",
      "source": [
        "Inisialisasi program menggunakan Keras dan loading data set:"
      ],
      "metadata": {
        "id": "cmN8eaBI7pCA"
      }
    },
    {
      "cell_type": "code",
      "execution_count": 5,
      "metadata": {
        "id": "kUadGYVPCbxm"
      },
      "outputs": [],
      "source": [
        "# Regression Example With Boston Dataset: Baseline\n",
        "from pandas import read_csv\n",
        "from keras.models import Sequential\n",
        "from keras.layers import Dense\n",
        "from keras.wrappers.scikit_learn import KerasRegressor\n",
        "from sklearn.model_selection import cross_val_score\n",
        "from sklearn.model_selection import KFold\n",
        "from sklearn.preprocessing import StandardScaler\n",
        "from sklearn.pipeline import Pipeline\n",
        "# load dataset\n",
        "dataframe = read_csv(\"https://raw.githubusercontent.com/jbrownlee/Datasets/master/housing.data\", delim_whitespace=True, header=None)\n",
        "dataset = dataframe.values\n",
        "# split into input (X) and output (Y) variables\n",
        "X = dataset[:,0:13]\n",
        "Y = dataset[:,13]\n"
      ]
    },
    {
      "cell_type": "markdown",
      "source": [
        "***Model Dasar (Baseline)***\n",
        "\n",
        "Model pertama yang dibuat adalah sebuah model dasar (*baseline*) yang merupakan NN fully connected dengan satu hidden layer. Terdapat 13 neuron sesuai dengan jumlah atribut input. \n",
        "\n",
        "Hasil dari eksekusi program dapat bervariasi. \n",
        "\n",
        "Dalam hal ini misalnya didapatkan: **-32.14 (22.08) MSE**\n",
        "\n",
        "Artinya adalah rata-rata perbedaan antara nilai prediksi dengan nilai sebenarnya adalah 32.14 ribu dollar, dengan standard deviasi 22.08 ribu dollar. "
      ],
      "metadata": {
        "id": "6VwsehYp8Cwe"
      }
    },
    {
      "cell_type": "code",
      "source": [
        "# define base model\n",
        "def baseline_model():\n",
        "\t# create model\n",
        "\tmodel = Sequential()\n",
        "\tmodel.add(Dense(13, input_dim=13, kernel_initializer='normal', activation='relu'))\n",
        "\tmodel.add(Dense(1, kernel_initializer='normal'))\n",
        "\t# Compile model\n",
        "\tmodel.compile(loss='mean_squared_error', optimizer='adam')\n",
        "\treturn model\n",
        "# evaluate model\n",
        "estimator = KerasRegressor(build_fn=baseline_model, epochs=100, batch_size=5, verbose=0)\n",
        "kfold = KFold(n_splits=10)\n",
        "results = cross_val_score(estimator, X, Y, cv=kfold)\n",
        "print(\"Baseline: %.2f (%.2f) MSE\" % (results.mean(), results.std()))"
      ],
      "metadata": {
        "colab": {
          "base_uri": "https://localhost:8080/"
        },
        "id": "rSRUDLJ77z33",
        "outputId": "36dc7013-c236-42bd-e98a-efda49264c65"
      },
      "execution_count": 2,
      "outputs": [
        {
          "output_type": "stream",
          "name": "stderr",
          "text": [
            "/usr/local/lib/python3.7/dist-packages/ipykernel_launcher.py:11: DeprecationWarning: KerasRegressor is deprecated, use Sci-Keras (https://github.com/adriangb/scikeras) instead. See https://www.adriangb.com/scikeras/stable/migration.html for help migrating.\n",
            "  # This is added back by InteractiveShellApp.init_path()\n"
          ]
        },
        {
          "output_type": "stream",
          "name": "stdout",
          "text": [
            "Baseline: -32.14 (22.08) MSE\n"
          ]
        }
      ]
    },
    {
      "cell_type": "markdown",
      "source": [
        "***Model Lebih Dalam***\n",
        "\n",
        "Dalam model ini ditambahkan satu lagi hidden layer dengan 6 hidden node. Dengan demikian topologinya menjadi:\n",
        "\n",
        "13 inputs -> [13 -> 6] -> 1 output\n",
        "\n",
        "Hasil yang didapatkan adalah **23.52 (23.81) MSE**, kesalahan lebih kecil daripada model dasar. \n"
      ],
      "metadata": {
        "id": "Lvn_3TcZES78"
      }
    },
    {
      "cell_type": "code",
      "source": [
        "# define the model\n",
        "def larger_model():\n",
        "\t# create model\n",
        "\tmodel = Sequential()\n",
        "\tmodel.add(Dense(13, input_dim=13, kernel_initializer='normal', activation='relu'))\n",
        "\tmodel.add(Dense(6, kernel_initializer='normal', activation='relu'))\n",
        "\tmodel.add(Dense(1, kernel_initializer='normal'))\n",
        "\t# Compile model\n",
        "\tmodel.compile(loss='mean_squared_error', optimizer='adam')\n",
        "\treturn model\n",
        "# evaluate model with standardized dataset\n",
        "estimators = []\n",
        "estimators.append(('standardize', StandardScaler()))\n",
        "estimators.append(('mlp', KerasRegressor(build_fn=larger_model, epochs=50, batch_size=5, verbose=0)))\n",
        "pipeline = Pipeline(estimators)\n",
        "kfold = KFold(n_splits=10)\n",
        "results = cross_val_score(pipeline, X, Y, cv=kfold)\n",
        "print(\"Larger: %.2f (%.2f) MSE\" % (results.mean(), results.std()))"
      ],
      "metadata": {
        "colab": {
          "base_uri": "https://localhost:8080/"
        },
        "id": "34nJp0x1FMw2",
        "outputId": "5c52e88f-e34d-406f-a3af-cbdaa939c111"
      },
      "execution_count": 6,
      "outputs": [
        {
          "output_type": "stream",
          "name": "stderr",
          "text": [
            "/usr/local/lib/python3.7/dist-packages/ipykernel_launcher.py:14: DeprecationWarning: KerasRegressor is deprecated, use Sci-Keras (https://github.com/adriangb/scikeras) instead. See https://www.adriangb.com/scikeras/stable/migration.html for help migrating.\n",
            "  \n"
          ]
        },
        {
          "output_type": "stream",
          "name": "stdout",
          "text": [
            "Larger: -23.52 (23.81) MSE\n"
          ]
        }
      ]
    },
    {
      "cell_type": "markdown",
      "source": [
        "***Model Lebih Dalam***\n",
        "\n",
        "Dalam model ini tetap menggunakan 2 hidden layer, tetapi kedua hidden layer memiliki 13 hidden node. Dengan demikian topologinya menjadi:\n",
        "\n",
        "13 inputs -> [13 -> 13] -> 1 output\n",
        "\n",
        "Hasil yang didapatkan adalah **23.52 (23.81) MSE**, kesalahan lebih kecil daripada model dasar. "
      ],
      "metadata": {
        "id": "KdwHOM90Gcej"
      }
    },
    {
      "cell_type": "code",
      "source": [
        "# define the model\n",
        "def larger_model():\n",
        "\t# create model\n",
        "\tmodel = Sequential()\n",
        "\tmodel.add(Dense(13, input_dim=13, kernel_initializer='normal', activation='relu'))\n",
        "\tmodel.add(Dense(13, kernel_initializer='normal', activation='relu'))\n",
        "\tmodel.add(Dense(1, kernel_initializer='normal'))\n",
        "\t# Compile model\n",
        "\tmodel.compile(loss='mean_squared_error', optimizer='adam')\n",
        "\treturn model\n",
        "# evaluate model with standardized dataset\n",
        "estimators = []\n",
        "estimators.append(('standardize', StandardScaler()))\n",
        "estimators.append(('mlp', KerasRegressor(build_fn=larger_model, epochs=50, batch_size=5, verbose=0)))\n",
        "pipeline = Pipeline(estimators)\n",
        "kfold = KFold(n_splits=10)\n",
        "results = cross_val_score(pipeline, X, Y, cv=kfold)\n",
        "print(\"Larger: %.2f (%.2f) MSE\" % (results.mean(), results.std()))"
      ],
      "metadata": {
        "colab": {
          "base_uri": "https://localhost:8080/"
        },
        "id": "gF0ehG-AGrEs",
        "outputId": "ff0b8228-b5fb-4143-94e2-0172aa11b92c"
      },
      "execution_count": 7,
      "outputs": [
        {
          "output_type": "stream",
          "name": "stderr",
          "text": [
            "/usr/local/lib/python3.7/dist-packages/ipykernel_launcher.py:14: DeprecationWarning: KerasRegressor is deprecated, use Sci-Keras (https://github.com/adriangb/scikeras) instead. See https://www.adriangb.com/scikeras/stable/migration.html for help migrating.\n",
            "  \n"
          ]
        },
        {
          "output_type": "stream",
          "name": "stdout",
          "text": [
            "Larger: -22.34 (25.99) MSE\n"
          ]
        }
      ]
    },
    {
      "cell_type": "markdown",
      "source": [
        "Referensi:\n",
        "https://machinelearningmastery.com/regression-tutorial-keras-deep-learning-library-python/\n"
      ],
      "metadata": {
        "id": "52faulGOSRk7"
      }
    }
  ]
}