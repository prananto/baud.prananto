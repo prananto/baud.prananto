{
  "cells": [
    {
      "cell_type": "code",
      "source": [
        "!pip install git+https://github.com/jacksonpradolima/pyneurgen.git@master"
      ],
      "metadata": {
        "colab": {
          "base_uri": "https://localhost:8080/"
        },
        "id": "GoPvGFBfIoQj",
        "outputId": "3d02021f-19ec-4712-d322-8967295ead69"
      },
      "execution_count": 2,
      "outputs": [
        {
          "output_type": "stream",
          "name": "stdout",
          "text": [
            "Collecting git+https://github.com/jacksonpradolima/pyneurgen.git@master\n",
            "  Cloning https://github.com/jacksonpradolima/pyneurgen.git (to revision master) to /tmp/pip-req-build-xxhcxgp1\n",
            "  Running command git clone -q https://github.com/jacksonpradolima/pyneurgen.git /tmp/pip-req-build-xxhcxgp1\n",
            "Building wheels for collected packages: pyneurgen\n",
            "  Building wheel for pyneurgen (setup.py) ... \u001b[?25l\u001b[?25hdone\n",
            "  Created wheel for pyneurgen: filename=pyneurgen-0.3.1-py3-none-any.whl size=55967 sha256=9bca968e3ea91cf99c9416722bd2bc7e98650bc68e1dfc7548222a1dce09aa5e\n",
            "  Stored in directory: /tmp/pip-ephem-wheel-cache-sf70f706/wheels/6f/73/62/f5e7fdf82be8500fd60bf6d367f1f4270680ac7af185265add\n",
            "Successfully built pyneurgen\n",
            "Installing collected packages: pyneurgen\n",
            "Successfully installed pyneurgen-0.3.1\n"
          ]
        }
      ]
    },
    {
      "cell_type": "code",
      "execution_count": 4,
      "metadata": {
        "id": "n7vSSsb8IanI"
      },
      "outputs": [],
      "source": [
        "import pandas as pd\n",
        "import numpy as np\n",
        "import matplotlib.dates as md\n",
        "import matplotlib.pyplot as plt\n",
        "from mpl_toolkits.axes_grid1 import host_subplot\n",
        "import mpl_toolkits.axisartist as AA\n",
        "from sklearn.preprocessing import StandardScaler\n",
        "from sklearn.decomposition import PCA\n",
        "from sklearn.cluster import KMeans\n",
        "from sklearn.covariance import EllipticEnvelope\n",
        "from sklearn.ensemble import IsolationForest\n",
        "from sklearn.svm import OneClassSVM\n",
        "from mpl_toolkits.mplot3d import Axes3D\n",
        "from pyneurgen.recurrent import NARXRecurrent\n",
        "from pyneurgen.neuralnet import NeuralNet\n",
        "from pyneurgen.nodes import BiasNode, Connection\n",
        "\n",
        "%matplotlib inline"
      ]
    },
    {
      "cell_type": "code",
      "execution_count": 5,
      "metadata": {
        "id": "B6NMrYiqIanL"
      },
      "outputs": [],
      "source": [
        "#df = pd.read_excel(\"Forest_tempWithoutAnomalies.xlsx\") #load data set\n",
        "#len_df = len(df)\n",
        "\n",
        "our1 = pd.read_excel(\"dataset.xlsx\")\n",
        "our2 = pd.read_excel(\"meteo.xlsx\")\n",
        "df = pd.merge(our1, our2, on='Temps')\n",
        "len_df = len(df)\n",
        "\n",
        "#inpt = df[[\"Temps\",\"T8_2\",\"Temperature exterieure\"]]\n",
        "inpt = df[[\"Temps\",\"T1_2\",\"Temperature exterieure\",\"T1_1\",\"T2_2\",\"Pression\"]]\n",
        "output = df[[\"T1_1\"]]\n",
        "\n",
        "sc = StandardScaler()\n",
        "in1 = sc.fit_transform(inpt[0:int(len_df * .8)]) #train and fit train input data\n",
        "in2 = sc.transform(inpt[int(len_df * .8)+1:len_df-1]) #test transform \n",
        "inp = np.concatenate([in1,in2]) #add to the end df1 arr df2\n",
        "inpt = pd.DataFrame(inp, columns=inpt.columns)\n",
        "\n",
        "out1 = sc.fit_transform(output[0:int(len_df * .8)]) #train and fit train out data\n",
        "out2 = sc.transform(output[int(len_df * .8)+1:len_df-1]) #test transform \n",
        "out = np.concatenate([out1,out2]) #add to the end df1 arr df2\n",
        "output = pd.DataFrame(out, columns=output.columns)\n"
      ]
    },
    {
      "cell_type": "code",
      "execution_count": 6,
      "metadata": {
        "colab": {
          "base_uri": "https://localhost:8080/"
        },
        "id": "x_Sw6sWwIanN",
        "outputId": "91d1300c-b0b3-4c93-eb3d-7a4bd05a818a"
      },
      "outputs": [
        {
          "output_type": "execute_result",
          "data": {
            "text/plain": [
              "numpy.ndarray"
            ]
          },
          "metadata": {},
          "execution_count": 6
        }
      ],
      "source": [
        "all_inputs = inpt.values\n",
        "all_targets = output.values\n",
        "for val in all_targets:\n",
        "    val = [val]\n",
        "type(all_targets)"
      ]
    },
    {
      "cell_type": "code",
      "execution_count": 7,
      "metadata": {
        "id": "MNIHgD_AIanO"
      },
      "outputs": [],
      "source": [
        "input_nodes = 6\n",
        "hidden_nodes = 3\n",
        "output_nodes = 1\n",
        "\n",
        "output_order = 9\n",
        "incoming_weight_from_output = .6\n",
        "input_order = 2\n",
        "incoming_weight_from_input = .4 \n",
        "net = NeuralNet()\n",
        "\n",
        "net.init_layers(input_nodes, [hidden_nodes], output_nodes,\n",
        "        NARXRecurrent(\n",
        "            output_order,\n",
        "            incoming_weight_from_output,\n",
        "            input_order,\n",
        "            incoming_weight_from_input))\n",
        "\n",
        "net.randomize_network() #This function randomizes the weights in all of the connections."
      ]
    },
    {
      "cell_type": "code",
      "execution_count": 8,
      "metadata": {
        "colab": {
          "base_uri": "https://localhost:8080/"
        },
        "id": "rKeKEsv6IanP",
        "outputId": "6baeeefd-e0f9-420f-e0f2-d9bcd46c406c"
      },
      "outputs": [
        {
          "output_type": "stream",
          "name": "stdout",
          "text": [
            "epoch: 0 MSE: 0.016873011683491205\n",
            "epoch: 1 MSE: 0.005798480851506207\n",
            "epoch: 2 MSE: 0.0034463481512825096\n",
            "epoch: 3 MSE: 0.0024453952299805996\n",
            "epoch: 4 MSE: 0.0020091175831915306\n",
            "epoch: 5 MSE: 0.0017553062873796005\n",
            "epoch: 6 MSE: 0.001564400240421069\n",
            "epoch: 7 MSE: 0.0013980336677647792\n",
            "epoch: 8 MSE: 0.0012506495259516509\n",
            "epoch: 9 MSE: 0.001124046667820699\n",
            "epoch: 10 MSE: 0.0010190690564492475\n",
            "epoch: 11 MSE: 0.0009340293219137968\n",
            "epoch: 12 MSE: 0.0008655801316561418\n",
            "epoch: 13 MSE: 0.0008099726445427018\n",
            "epoch: 14 MSE: 0.0007639892792578597\n",
            "epoch: 15 MSE: 0.000725255439658631\n",
            "epoch: 16 MSE: 0.0006919932752023233\n",
            "epoch: 17 MSE: 0.0006627478914813381\n",
            "epoch: 18 MSE: 0.00063635232505131\n",
            "epoch: 19 MSE: 0.0006119542127927839\n",
            "epoch: 20 MSE: 0.000588969263797127\n",
            "epoch: 21 MSE: 0.0005669964777485755\n",
            "epoch: 22 MSE: 0.0005457519919567025\n",
            "epoch: 23 MSE: 0.0005250356817459961\n",
            "epoch: 24 MSE: 0.000504719114455617\n",
            "epoch: 25 MSE: 0.0004847405903403158\n",
            "epoch: 26 MSE: 0.00046509832684628636\n",
            "epoch: 27 MSE: 0.00044583862270107706\n",
            "epoch: 28 MSE: 0.00042704002956920034\n",
            "epoch: 29 MSE: 0.0004087967572922839\n"
          ]
        }
      ],
      "source": [
        "net.set_halt_on_extremes(True)#This function sets the flag as to whether \n",
        "#the program should halt when experiencing extremely positive or negative numbers. \n",
        "#This can happen when using linear functions and data that may not be normalized.\n",
        "\n",
        "#   Set to constrain beginning weights to -.5 to .5\n",
        "net.set_random_constraint(.5)\n",
        "net.set_learnrate(.1)#This function sets the learn rate for the modeling. \n",
        "#It is used to determine how much weight to associate with an error when learning.\n",
        "\n",
        "#the inputs and targets are loaded into the system\n",
        "net.set_all_inputs(all_inputs)\n",
        "net.set_all_targets(all_targets)\n",
        "\n",
        "length = len(all_inputs)\n",
        "learn_end_point = int(length * .8)#The first 80% of the data will be used for learning\n",
        "\n",
        "net.set_learn_range(0, learn_end_point)#This function sets the range within the data that is to used for learning.\n",
        "net.set_test_range(learn_end_point + 1, length - 1)\n",
        "\n",
        "net.layers[1].set_activation_type('sigmoid')#sigmoid,linear TF\n",
        "\n",
        "net.learn(epochs= 30, show_epoch_results=True, \n",
        "    random_testing=False)"
      ]
    },
    {
      "cell_type": "code",
      "execution_count": 9,
      "metadata": {
        "colab": {
          "base_uri": "https://localhost:8080/"
        },
        "id": "jGUkXHhAIanQ",
        "outputId": "118f2715-0240-48b3-d660-73bd16efbf60"
      },
      "outputs": [
        {
          "output_type": "stream",
          "name": "stdout",
          "text": [
            "mse =  0.08469224440081574\n"
          ]
        }
      ],
      "source": [
        "mse = net.test()#With learning complete, it is time to test and evaluate the results.\n",
        "print (\"mse = \", mse)\n",
        "#test_positions = [item[0][1] for item in net.get_test_data()]\n",
        "test_positions = [item[0][0] for item in net.get_test_data()] \n",
        "all_targets1 = [item[0][0] for item in net.test_targets_activations]\n",
        "allactuals = [item[1][0] for item in net.test_targets_activations]\n",
        "#test_positions\n",
        "#all_targets1"
      ]
    },
    {
      "cell_type": "code",
      "execution_count": 10,
      "metadata": {
        "scrolled": true,
        "colab": {
          "base_uri": "https://localhost:8080/",
          "height": 298
        },
        "id": "4feBbYEsIanQ",
        "outputId": "01c1fb4e-cbca-4487-ac02-9ca76bc844f3"
      },
      "outputs": [
        {
          "output_type": "execute_result",
          "data": {
            "text/plain": [
              "574"
            ]
          },
          "metadata": {},
          "execution_count": 10
        },
        {
          "output_type": "display_data",
          "data": {
            "text/plain": [
              "<Figure size 432x288 with 1 Axes>"
            ],
            "image/png": "[encoded data removed]"
          },
          "metadata": {
            "needs_background": "light"
          }
        }
      ],
      "source": [
        "from pylab import plot, legend, subplot, grid, xlabel, ylabel, show, title\n",
        "#subplot(3, 1, 2)\n",
        "plot(test_positions, all_targets1, 'bo', label='targets')\n",
        "plot(test_positions, allactuals, 'ro', label='actuals')\n",
        "grid(True)\n",
        "legend(loc='lower left', numpoints=1)\n",
        "title(\"Test Target Points vs Actual Points\")\n",
        "len(allactuals)"
      ]
    }
  ],
  "metadata": {
    "kernelspec": {
      "display_name": "Python 3",
      "language": "python",
      "name": "python3"
    },
    "language_info": {
      "codemirror_mode": {
        "name": "ipython",
        "version": 3
      },
      "file_extension": ".py",
      "mimetype": "text/x-python",
      "name": "python",
      "nbconvert_exporter": "python",
      "pygments_lexer": "ipython3",
      "version": "3.7.3"
    },
    "colab": {
      "name": "NARX_Neural_Network.ipynb",
      "provenance": []
    }
  },
  "nbformat": 4,
  "nbformat_minor": 0
}